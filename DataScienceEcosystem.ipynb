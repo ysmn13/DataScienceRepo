{
 "cells": [
  {
   "cell_type": "markdown",
   "id": "16b0c062",
   "metadata": {},
   "source": [
    "#  Data Science Tools and Ecosystem"
   ]
  },
  {
   "cell_type": "markdown",
   "id": "5c393645",
   "metadata": {},
   "source": [
    "### In this notebook, Data Science Tools and Ecosystem are summarized\n"
   ]
  },
  {
   "cell_type": "markdown",
   "id": "ff70425c",
   "metadata": {},
   "source": [
    "**Objectives**\n",
    "- List popular languages used in Data science\n",
    "- List comonly used libraries\n",
    "- table of data science development environment\n",
    "- exemples of arithmetic exercices\n"
   ]
  },
  {
   "cell_type": "markdown",
   "id": "ec571194",
   "metadata": {},
   "source": [
    "###### Some of the popular languages that Data Scientists use are:\n"
   ]
  },
  {
   "cell_type": "markdown",
   "id": "e1b18485",
   "metadata": {},
   "source": [
    "1. python\n",
    "2. R\n",
    "3. SQL"
   ]
  },
  {
   "cell_type": "markdown",
   "id": "92b8f0ce",
   "metadata": {},
   "source": [
    "###### Some of the commonly used libraries used by Data Scientists include:\n",
    "1. pandas\n",
    "2. numpy\n",
    "3. matplotlib"
   ]
  },
  {
   "cell_type": "markdown",
   "id": "8a5da42e",
   "metadata": {},
   "source": [
    "Data Science Tools|\n",
    "------------------|\n",
    "Rstudio           |\n",
    "Apache Spark      |\n",
    "Jupyter           |"
   ]
  },
  {
   "cell_type": "markdown",
   "id": "a6034438",
   "metadata": {},
   "source": [
    "### Below are a few examples of evaluating arithmetic expressions in Python"
   ]
  },
  {
   "cell_type": "code",
   "execution_count": 1,
   "id": "4c6bbcff",
   "metadata": {},
   "outputs": [
    {
     "name": "stdout",
     "output_type": "stream",
     "text": [
      "17\n"
     ]
    }
   ],
   "source": [
    "# This a simple arithmetic expression to mutiply then add integers\n",
    "print((3*4)+5)"
   ]
  },
  {
   "cell_type": "code",
   "execution_count": 2,
   "id": "5f4faf21",
   "metadata": {},
   "outputs": [
    {
     "name": "stdout",
     "output_type": "stream",
     "text": [
      "3.3333333333333335\n"
     ]
    }
   ],
   "source": [
    "# This will convert 200 minutes to hours by diving by 60\n",
    "hours = 200 /60\n",
    "print(hours)"
   ]
  },
  {
   "cell_type": "markdown",
   "id": "03031d90",
   "metadata": {},
   "source": [
    "## Author\n",
    "Yasmine SOUBA"
   ]
  }
 ],
 "metadata": {
  "kernelspec": {
   "display_name": "Python 3 (ipykernel)",
   "language": "python",
   "name": "python3"
  },
  "language_info": {
   "codemirror_mode": {
    "name": "ipython",
    "version": 3
   },
   "file_extension": ".py",
   "mimetype": "text/x-python",
   "name": "python",
   "nbconvert_exporter": "python",
   "pygments_lexer": "ipython3",
   "version": "3.11.5"
  }
 },
 "nbformat": 4,
 "nbformat_minor": 5
}
